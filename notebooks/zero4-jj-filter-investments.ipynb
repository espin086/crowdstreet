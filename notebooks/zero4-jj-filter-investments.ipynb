{
 "cells": [
  {
   "cell_type": "markdown",
   "metadata": {},
   "source": [
    "## Filtering Offerings\n",
    "\n",
    "Based on learnings in the post-cleaning exploration I've found a set of criteria to minimize our risks when investing in crowdstreet:\n",
    "\n",
    "* Investments with 5 or less years of committment\n",
    "* Invest only in multifamily\n",
    "* Invest only in value add\n",
    "* Filter out investment with investment multiples that are too high\n",
    "* Invest in Texas\n",
    "* Invest with sponsors who are seasoned or tenured only\n"
   ]
  },
  {
   "cell_type": "code",
   "execution_count": 1,
   "metadata": {
    "ExecuteTime": {
     "end_time": "2019-10-29T05:57:33.726722Z",
     "start_time": "2019-10-29T05:57:33.724267Z"
    }
   },
   "outputs": [],
   "source": [
    "from datetime import date"
   ]
  },
  {
   "cell_type": "code",
   "execution_count": 2,
   "metadata": {
    "ExecuteTime": {
     "end_time": "2019-10-29T05:57:34.720035Z",
     "start_time": "2019-10-29T05:57:34.153684Z"
    }
   },
   "outputs": [
    {
     "name": "stderr",
     "output_type": "stream",
     "text": [
      "/Users/jjespinoza/anaconda3/lib/python3.7/site-packages/fuzzywuzzy/fuzz.py:11: UserWarning: Using slow pure-python SequenceMatcher. Install python-Levenshtein to remove this warning\n",
      "  warnings.warn('Using slow pure-python SequenceMatcher. Install python-Levenshtein to remove this warning')\n"
     ]
    }
   ],
   "source": [
    "%run zero2-jj-data-cleaning.ipynb"
   ]
  },
  {
   "cell_type": "code",
   "execution_count": 4,
   "metadata": {
    "ExecuteTime": {
     "end_time": "2019-10-29T05:58:18.650000Z",
     "start_time": "2019-10-29T05:58:18.493606Z"
    }
   },
   "outputs": [],
   "source": [
    "df = clean_crowd_street(infile=\"../data/raw/Offerings_2019-10-28.csv\", \n",
    "                   outfile=\"../data/processed/clean_crowdstreet.csv\"\n",
    "                  )"
   ]
  },
  {
   "cell_type": "code",
   "execution_count": 5,
   "metadata": {
    "ExecuteTime": {
     "end_time": "2019-10-29T05:58:20.932799Z",
     "start_time": "2019-10-29T05:58:20.925683Z"
    }
   },
   "outputs": [],
   "source": [
    "filtered = df[\n",
    "    (df['offering_status']=='funding') \n",
    "    & (df['offering_state']=='tx')\n",
    "    & (df['property_type']=='multifamily')\n",
    "    & (df['investment_profile']=='value add')\n",
    "    & (df['sponsor_experience']=='seasoned')\n",
    "  \n",
    "  ]"
   ]
  },
  {
   "cell_type": "code",
   "execution_count": 7,
   "metadata": {
    "ExecuteTime": {
     "end_time": "2019-10-29T05:58:27.703178Z",
     "start_time": "2019-10-29T05:58:27.677063Z"
    }
   },
   "outputs": [
    {
     "data": {
      "text/html": [
       "<div>\n",
       "<style scoped>\n",
       "    .dataframe tbody tr th:only-of-type {\n",
       "        vertical-align: middle;\n",
       "    }\n",
       "\n",
       "    .dataframe tbody tr th {\n",
       "        vertical-align: top;\n",
       "    }\n",
       "\n",
       "    .dataframe thead th {\n",
       "        text-align: right;\n",
       "    }\n",
       "</style>\n",
       "<table border=\"1\" class=\"dataframe\">\n",
       "  <thead>\n",
       "    <tr style=\"text-align: right;\">\n",
       "      <th></th>\n",
       "      <th>sponsor</th>\n",
       "      <th>sponsor_experience</th>\n",
       "      <th>offering</th>\n",
       "      <th>offering_city</th>\n",
       "      <th>offering_state</th>\n",
       "      <th>property_type</th>\n",
       "      <th>investment_structure</th>\n",
       "      <th>investment_profile</th>\n",
       "      <th>targeted_investor_irr_pct</th>\n",
       "      <th>targeted_investor_equity_multiple</th>\n",
       "      <th>...</th>\n",
       "      <th>date_funds_due</th>\n",
       "      <th>date_closed</th>\n",
       "      <th>offering_status</th>\n",
       "      <th>first_distribution_period_end_date</th>\n",
       "      <th>first_distribution_payment_date</th>\n",
       "      <th>last_distribution_period_end_date</th>\n",
       "      <th>last_distribution_payment_date</th>\n",
       "      <th>last_tax_document_date</th>\n",
       "      <th>realized_investor_equity_multiple</th>\n",
       "      <th>realized_avg_annual_cash_yield_pct</th>\n",
       "    </tr>\n",
       "  </thead>\n",
       "  <tbody>\n",
       "    <tr>\n",
       "      <th>19</th>\n",
       "      <td>gwr equities</td>\n",
       "      <td>seasoned</td>\n",
       "      <td>trails at city park</td>\n",
       "      <td>houston</td>\n",
       "      <td>tx</td>\n",
       "      <td>multifamily</td>\n",
       "      <td>equity</td>\n",
       "      <td>value add</td>\n",
       "      <td>15.2</td>\n",
       "      <td>2.5</td>\n",
       "      <td>...</td>\n",
       "      <td>2019-11-08</td>\n",
       "      <td>2019-11-05</td>\n",
       "      <td>funding</td>\n",
       "      <td>NaT</td>\n",
       "      <td>NaT</td>\n",
       "      <td>NaT</td>\n",
       "      <td>NaT</td>\n",
       "      <td>NaT</td>\n",
       "      <td>NaN</td>\n",
       "      <td>NaN</td>\n",
       "    </tr>\n",
       "  </tbody>\n",
       "</table>\n",
       "<p>1 rows × 30 columns</p>\n",
       "</div>"
      ],
      "text/plain": [
       "         sponsor sponsor_experience             offering offering_city  \\\n",
       "19  gwr equities           seasoned  trails at city park       houston   \n",
       "\n",
       "   offering_state property_type investment_structure investment_profile  \\\n",
       "19             tx   multifamily               equity          value add   \n",
       "\n",
       "    targeted_investor_irr_pct  targeted_investor_equity_multiple  ...  \\\n",
       "19                       15.2                                2.5  ...   \n",
       "\n",
       "    date_funds_due date_closed  offering_status  \\\n",
       "19      2019-11-08  2019-11-05          funding   \n",
       "\n",
       "   first_distribution_period_end_date  first_distribution_payment_date  \\\n",
       "19                                NaT                              NaT   \n",
       "\n",
       "    last_distribution_period_end_date  last_distribution_payment_date  \\\n",
       "19                                NaT                             NaT   \n",
       "\n",
       "   last_tax_document_date realized_investor_equity_multiple  \\\n",
       "19                    NaT                               NaN   \n",
       "\n",
       "   realized_avg_annual_cash_yield_pct  \n",
       "19                                NaN  \n",
       "\n",
       "[1 rows x 30 columns]"
      ]
     },
     "execution_count": 7,
     "metadata": {},
     "output_type": "execute_result"
    }
   ],
   "source": [
    "filtered"
   ]
  },
  {
   "cell_type": "code",
   "execution_count": 6,
   "metadata": {
    "ExecuteTime": {
     "end_time": "2019-10-29T05:58:21.709801Z",
     "start_time": "2019-10-29T05:58:21.705342Z"
    }
   },
   "outputs": [],
   "source": [
    "filtered.to_csv(\"../reports/filtered_{0}.csv\".format(str(date.today())))"
   ]
  },
  {
   "cell_type": "code",
   "execution_count": null,
   "metadata": {},
   "outputs": [],
   "source": []
  }
 ],
 "metadata": {
  "hide_input": false,
  "kernelspec": {
   "display_name": "Python 3",
   "language": "python",
   "name": "python3"
  },
  "language_info": {
   "codemirror_mode": {
    "name": "ipython",
    "version": 3
   },
   "file_extension": ".py",
   "mimetype": "text/x-python",
   "name": "python",
   "nbconvert_exporter": "python",
   "pygments_lexer": "ipython3",
   "version": "3.7.3"
  },
  "toc": {
   "base_numbering": 1,
   "nav_menu": {},
   "number_sections": true,
   "sideBar": true,
   "skip_h1_title": false,
   "title_cell": "Table of Contents",
   "title_sidebar": "Contents",
   "toc_cell": false,
   "toc_position": {},
   "toc_section_display": true,
   "toc_window_display": false
  },
  "varInspector": {
   "cols": {
    "lenName": 16,
    "lenType": 16,
    "lenVar": 40
   },
   "kernels_config": {
    "python": {
     "delete_cmd_postfix": "",
     "delete_cmd_prefix": "del ",
     "library": "var_list.py",
     "varRefreshCmd": "print(var_dic_list())"
    },
    "r": {
     "delete_cmd_postfix": ") ",
     "delete_cmd_prefix": "rm(",
     "library": "var_list.r",
     "varRefreshCmd": "cat(var_dic_list()) "
    }
   },
   "types_to_exclude": [
    "module",
    "function",
    "builtin_function_or_method",
    "instance",
    "_Feature"
   ],
   "window_display": false
  }
 },
 "nbformat": 4,
 "nbformat_minor": 2
}
