{
 "cells": [
  {
   "cell_type": "markdown",
   "metadata": {},
   "source": [
    "## Filtering Offerings\n",
    "\n",
    "Based on learnings in the post-cleaning exploration I've found a set of criteria to minimize our risks when investing in crowdstreet:\n",
    "\n",
    "* Investments with 5 or less years of committment\n",
    "* Invest only in multifamily\n",
    "* Invest only in value add\n",
    "* Filter out investment with investment multiples that are too high\n",
    "* Invest in Texas\n",
    "* Invest with sponsors who are seasoned or tenured only\n"
   ]
  },
  {
   "cell_type": "code",
   "execution_count": 20,
   "metadata": {
    "ExecuteTime": {
     "end_time": "2019-10-29T05:45:07.386947Z",
     "start_time": "2019-10-29T05:45:07.384733Z"
    }
   },
   "outputs": [],
   "source": [
    "from datetime import date"
   ]
  },
  {
   "cell_type": "code",
   "execution_count": 1,
   "metadata": {
    "ExecuteTime": {
     "end_time": "2019-10-29T05:39:43.849781Z",
     "start_time": "2019-10-29T05:39:43.087632Z"
    }
   },
   "outputs": [
    {
     "name": "stderr",
     "output_type": "stream",
     "text": [
      "/Users/jjespinoza/anaconda3/lib/python3.7/site-packages/fuzzywuzzy/fuzz.py:11: UserWarning: Using slow pure-python SequenceMatcher. Install python-Levenshtein to remove this warning\n",
      "  warnings.warn('Using slow pure-python SequenceMatcher. Install python-Levenshtein to remove this warning')\n"
     ]
    }
   ],
   "source": [
    "%run zero2-jj-data-cleaning.ipynb"
   ]
  },
  {
   "cell_type": "code",
   "execution_count": 2,
   "metadata": {
    "ExecuteTime": {
     "end_time": "2019-10-29T05:39:53.079600Z",
     "start_time": "2019-10-29T05:39:52.930635Z"
    }
   },
   "outputs": [],
   "source": [
    "df = clean_crowd_street(infile=\"../data/raw/Offerings_2019-10-25.csv\", \n",
    "                   outfile=\"../data/processed/clean_crowdstreet.csv\"\n",
    "                  )"
   ]
  },
  {
   "cell_type": "code",
   "execution_count": 9,
   "metadata": {
    "ExecuteTime": {
     "end_time": "2019-10-29T05:42:57.513837Z",
     "start_time": "2019-10-29T05:42:57.507499Z"
    }
   },
   "outputs": [],
   "source": [
    "filtered = df[\n",
    "    (df['offering_status']=='funding') \n",
    "    & (df['offering_state']=='tx')\n",
    "    & (df['property_type']=='multifamily')\n",
    "    & (df['investment_profile']=='value add')\n",
    "    & (df['sponsor_experience']=='seasoned')\n",
    "  \n",
    "  ]"
   ]
  },
  {
   "cell_type": "code",
   "execution_count": 21,
   "metadata": {
    "ExecuteTime": {
     "end_time": "2019-10-29T05:45:21.145109Z",
     "start_time": "2019-10-29T05:45:21.140541Z"
    }
   },
   "outputs": [],
   "source": [
    "filtered.to_csv(\"../reports/filtered_{0}.csv\".format(str(date.today())))"
   ]
  }
 ],
 "metadata": {
  "hide_input": false,
  "kernelspec": {
   "display_name": "Python 3",
   "language": "python",
   "name": "python3"
  },
  "language_info": {
   "codemirror_mode": {
    "name": "ipython",
    "version": 3
   },
   "file_extension": ".py",
   "mimetype": "text/x-python",
   "name": "python",
   "nbconvert_exporter": "python",
   "pygments_lexer": "ipython3",
   "version": "3.7.3"
  },
  "toc": {
   "base_numbering": 1,
   "nav_menu": {},
   "number_sections": true,
   "sideBar": true,
   "skip_h1_title": false,
   "title_cell": "Table of Contents",
   "title_sidebar": "Contents",
   "toc_cell": false,
   "toc_position": {},
   "toc_section_display": true,
   "toc_window_display": false
  },
  "varInspector": {
   "cols": {
    "lenName": 16,
    "lenType": 16,
    "lenVar": 40
   },
   "kernels_config": {
    "python": {
     "delete_cmd_postfix": "",
     "delete_cmd_prefix": "del ",
     "library": "var_list.py",
     "varRefreshCmd": "print(var_dic_list())"
    },
    "r": {
     "delete_cmd_postfix": ") ",
     "delete_cmd_prefix": "rm(",
     "library": "var_list.r",
     "varRefreshCmd": "cat(var_dic_list()) "
    }
   },
   "types_to_exclude": [
    "module",
    "function",
    "builtin_function_or_method",
    "instance",
    "_Feature"
   ],
   "window_display": false
  }
 },
 "nbformat": 4,
 "nbformat_minor": 2
}
